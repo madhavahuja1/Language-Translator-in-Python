{
 "cells": [
  {
   "cell_type": "code",
   "execution_count": 1,
   "id": "6cd58d2d-8b53-45c4-9d48-d2327934e5f3",
   "metadata": {},
   "outputs": [],
   "source": [
    "from tkinter import *\n",
    "from tkinter import ttk\n",
    "from googletrans import Translator, LANGUAGES"
   ]
  },
  {
   "cell_type": "code",
   "execution_count": 2,
   "id": "3a5391fc-9965-4067-bcec-f2ad4187b333",
   "metadata": {},
   "outputs": [],
   "source": [
    "root=Tk()\n",
    "root.geometry('1100x320')\n",
    "root.resizable(0,0)\n",
    "root.tk.call('wm', 'iconbitmap', root._w, '-default', root.iconbitmap())\n",
    "root['bg']='purple'\n",
    "root.title('Language translator')\n",
    "Label(root,text=\"Language Translator\",font =\"Arial 20 bold\").pack() \n",
    "\n",
    "\n"
   ]
  },
  {
   "cell_type": "code",
   "execution_count": 3,
   "id": "c915cb2c-21ab-4111-a72d-77f946f93cc2",
   "metadata": {},
   "outputs": [],
   "source": [
    "Label(root,text= \"Enter Text\",font =\"arial 13 bold\" ,bg=\"white smoke\").place(x=165,y=90)\n"
   ]
  },
  {
   "cell_type": "code",
   "execution_count": 4,
   "id": "159a11c7-846c-40b7-bbd3-c2400d437660",
   "metadata": {},
   "outputs": [
    {
     "data": {
      "text/plain": [
       "''"
      ]
     },
     "execution_count": 4,
     "metadata": {},
     "output_type": "execute_result"
    }
   ],
   "source": [
    "Input_text = Entry(root,width=60)\n",
    "Input_text.place(x=30,y=130)\n",
    "Input_text.get()\n"
   ]
  },
  {
   "cell_type": "code",
   "execution_count": 5,
   "id": "26e81520-951f-4af3-8244-0654ee14bee6",
   "metadata": {},
   "outputs": [],
   "source": [
    "Label(root,text =\"Output\",font=\"arial 13 bold\", bg=\"white smoke\").place(x=700,y=90)\n",
    "Output_text =Text(root,font=\"arial 10\",height=5,wrap =WORD,padx =5,pady=5,width=50)\n",
    "Output_text.place(x=600,y=140)\n",
    "language= list(LANGUAGES.values())\n",
    "dest_lang=ttk.Combobox(root,values= language,width=22)\n",
    "dest_lang.place(x=130,y=180)\n",
    "dest_lang.set('Choose Language')\n",
    "\n",
    "def Translate():\n",
    "    translator=Translator()\n",
    "    translated =translator.translate(text=Input_text.get(),dest=dest_lang.get())\n",
    "    Output_text.delete(1.0,END)\n",
    "    Output_text.insert(END, translated.text)\n",
    "\n",
    "trans_btn= Button(root,text ='Translate',font ='arial 12 bold', pady=5,command= Translate,bg='red',activebackground='white')\n",
    "trans_btn.place(x=445,y=180)\n",
    "\n",
    "root.mainloop()"
   ]
  },
  {
   "cell_type": "code",
   "execution_count": null,
   "id": "588c3e94-6044-43a3-a185-86d1bbb53253",
   "metadata": {},
   "outputs": [],
   "source": []
  },
  {
   "cell_type": "code",
   "execution_count": null,
   "id": "2ed63700-33ec-4b82-959d-6fd0b3c5f5fd",
   "metadata": {},
   "outputs": [],
   "source": []
  },
  {
   "cell_type": "code",
   "execution_count": null,
   "id": "8f71fc8f-34be-4a79-bdd0-16c240ae6c16",
   "metadata": {},
   "outputs": [],
   "source": []
  },
  {
   "cell_type": "code",
   "execution_count": null,
   "id": "e0207a05-8b8e-4654-9dea-03416c338f46",
   "metadata": {},
   "outputs": [],
   "source": []
  }
 ],
 "metadata": {
  "kernelspec": {
   "display_name": "Python 3 (ipykernel)",
   "language": "python",
   "name": "python3"
  },
  "language_info": {
   "codemirror_mode": {
    "name": "ipython",
    "version": 3
   },
   "file_extension": ".py",
   "mimetype": "text/x-python",
   "name": "python",
   "nbconvert_exporter": "python",
   "pygments_lexer": "ipython3",
   "version": "3.12.0"
  }
 },
 "nbformat": 4,
 "nbformat_minor": 5
}
